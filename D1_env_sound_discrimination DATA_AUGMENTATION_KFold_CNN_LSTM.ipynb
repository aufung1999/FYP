{
 "cells": [
  {
   "cell_type": "code",
   "execution_count": 1,
   "metadata": {},
   "outputs": [],
   "source": [
    "import keras\n",
    "from keras.layers import Activation, Dense, Dropout, Conv2D, \\\n",
    "                         Flatten, MaxPooling2D, LSTM, TimeDistributed, Reshape\n",
    "from keras.models import Sequential\n",
    "from keras.callbacks import TensorBoard\n",
    "import librosa\n",
    "import librosa.display\n",
    "import numpy as np\n",
    "import pandas as pd\n",
    "import random\n",
    "import matplotlib.pyplot as plt\n",
    "import time\n",
    "import tensorflow as tf\n",
    "from tensorflow.keras.models import Model\n",
    "from sklearn.model_selection import KFold\n",
    "\n",
    "import warnings\n",
    "warnings.filterwarnings('ignore')"
   ]
  },
  {
   "cell_type": "code",
   "execution_count": 3,
   "metadata": {},
   "outputs": [
    {
     "data": {
      "text/html": [
       "<div>\n",
       "<style scoped>\n",
       "    .dataframe tbody tr th:only-of-type {\n",
       "        vertical-align: middle;\n",
       "    }\n",
       "\n",
       "    .dataframe tbody tr th {\n",
       "        vertical-align: top;\n",
       "    }\n",
       "\n",
       "    .dataframe thead th {\n",
       "        text-align: right;\n",
       "    }\n",
       "</style>\n",
       "<table border=\"1\" class=\"dataframe\">\n",
       "  <thead>\n",
       "    <tr style=\"text-align: right;\">\n",
       "      <th></th>\n",
       "      <th>slice_file_name</th>\n",
       "      <th>fsID</th>\n",
       "      <th>start</th>\n",
       "      <th>end</th>\n",
       "      <th>salience</th>\n",
       "      <th>fold</th>\n",
       "      <th>classID</th>\n",
       "      <th>class</th>\n",
       "    </tr>\n",
       "  </thead>\n",
       "  <tbody>\n",
       "    <tr>\n",
       "      <th>0</th>\n",
       "      <td>100032-3-0-0.wav</td>\n",
       "      <td>100032</td>\n",
       "      <td>0.0</td>\n",
       "      <td>0.317551</td>\n",
       "      <td>1</td>\n",
       "      <td>5</td>\n",
       "      <td>3</td>\n",
       "      <td>dog_bark</td>\n",
       "    </tr>\n",
       "    <tr>\n",
       "      <th>1</th>\n",
       "      <td>100263-2-0-117.wav</td>\n",
       "      <td>100263</td>\n",
       "      <td>58.5</td>\n",
       "      <td>62.500000</td>\n",
       "      <td>1</td>\n",
       "      <td>5</td>\n",
       "      <td>2</td>\n",
       "      <td>children_playing</td>\n",
       "    </tr>\n",
       "    <tr>\n",
       "      <th>2</th>\n",
       "      <td>100263-2-0-121.wav</td>\n",
       "      <td>100263</td>\n",
       "      <td>60.5</td>\n",
       "      <td>64.500000</td>\n",
       "      <td>1</td>\n",
       "      <td>5</td>\n",
       "      <td>2</td>\n",
       "      <td>children_playing</td>\n",
       "    </tr>\n",
       "    <tr>\n",
       "      <th>3</th>\n",
       "      <td>100263-2-0-126.wav</td>\n",
       "      <td>100263</td>\n",
       "      <td>63.0</td>\n",
       "      <td>67.000000</td>\n",
       "      <td>1</td>\n",
       "      <td>5</td>\n",
       "      <td>2</td>\n",
       "      <td>children_playing</td>\n",
       "    </tr>\n",
       "    <tr>\n",
       "      <th>4</th>\n",
       "      <td>100263-2-0-137.wav</td>\n",
       "      <td>100263</td>\n",
       "      <td>68.5</td>\n",
       "      <td>72.500000</td>\n",
       "      <td>1</td>\n",
       "      <td>5</td>\n",
       "      <td>2</td>\n",
       "      <td>children_playing</td>\n",
       "    </tr>\n",
       "  </tbody>\n",
       "</table>\n",
       "</div>"
      ],
      "text/plain": [
       "      slice_file_name    fsID  start        end  salience  fold  classID  \\\n",
       "0    100032-3-0-0.wav  100032    0.0   0.317551         1     5        3   \n",
       "1  100263-2-0-117.wav  100263   58.5  62.500000         1     5        2   \n",
       "2  100263-2-0-121.wav  100263   60.5  64.500000         1     5        2   \n",
       "3  100263-2-0-126.wav  100263   63.0  67.000000         1     5        2   \n",
       "4  100263-2-0-137.wav  100263   68.5  72.500000         1     5        2   \n",
       "\n",
       "              class  \n",
       "0          dog_bark  \n",
       "1  children_playing  \n",
       "2  children_playing  \n",
       "3  children_playing  \n",
       "4  children_playing  "
      ]
     },
     "execution_count": 3,
     "metadata": {},
     "output_type": "execute_result"
    }
   ],
   "source": [
    "# Read Data\n",
    "data = pd.read_csv('UrbanSounds8K/metadata/UrbanSound8K.csv')\n",
    "data.head(5)"
   ]
  },
  {
   "cell_type": "code",
   "execution_count": 4,
   "metadata": {},
   "outputs": [
    {
     "data": {
      "text/plain": [
       "(8732, 8)"
      ]
     },
     "execution_count": 4,
     "metadata": {},
     "output_type": "execute_result"
    }
   ],
   "source": [
    "data.shape"
   ]
  },
  {
   "cell_type": "code",
   "execution_count": 5,
   "metadata": {},
   "outputs": [
    {
     "data": {
      "text/plain": [
       "(7468, 4)"
      ]
     },
     "execution_count": 5,
     "metadata": {},
     "output_type": "execute_result"
    }
   ],
   "source": [
    "# Get data over 3 seconds long\n",
    "valid_data = data[['slice_file_name', 'fold' ,'classID', 'class']][ data['end']-data['start'] >= 3 ]\n",
    "valid_data.shape"
   ]
  },
  {
   "cell_type": "code",
   "execution_count": 6,
   "metadata": {},
   "outputs": [
    {
     "data": {
      "text/plain": [
       "<matplotlib.collections.QuadMesh at 0x17b14edef08>"
      ]
     },
     "execution_count": 6,
     "metadata": {},
     "output_type": "execute_result"
    },
    {
     "data": {
      "image/png": "[encoded data removed]",
      "text/plain": [
       "<Figure size 432x288 with 1 Axes>"
      ]
     },
     "metadata": {
      "needs_background": "light"
     },
     "output_type": "display_data"
    }
   ],
   "source": [
    "y, sr = librosa.load('UrbanSounds8K/audio/fold9/13579-2-0-16.wav', duration=2.97)\n",
    "ps = librosa.feature.melspectrogram(y=y, sr=sr)\n",
    "ps.shape\n",
    "\n",
    "mel_sgram = librosa.amplitude_to_db(ps, ref=np.min)\n",
    "\n",
    "librosa.display.specshow(ps, y_axis='mel', x_axis='time')"
   ]
  },
  {
   "cell_type": "code",
   "execution_count": 7,
   "metadata": {},
   "outputs": [],
   "source": [
    "valid_data['path'] = 'fold' + valid_data['fold'].astype('str') + '/' + valid_data['slice_file_name'].astype('str')"
   ]
  },
  {
   "cell_type": "code",
   "execution_count": 6,
   "metadata": {},
   "outputs": [],
   "source": [
    "#Use it to create data ######################################################################\n",
    "def creates_train_data():\n",
    "    D = [] # Dataset\n",
    "\n",
    "    for row in valid_data.itertuples():\n",
    "        y, sr = librosa.load('UrbanSounds8K/augmented/ps2_m25/' + row.path, duration=2.97)  #2.97 = 3*1000 - 3*1000/128  ###############################\n",
    "        ps = librosa.feature.melspectrogram(y=y, sr=sr)\n",
    "        if ps.shape != (128, 128): continue\n",
    "        D.append( (ps, row.classID) )\n",
    "    np.save('train_data_augmented_ps2_m25.npy', D) ###############################\n",
    "    return D"
   ]
  },
  {
   "cell_type": "code",
   "execution_count": 2,
   "metadata": {},
   "outputs": [],
   "source": [
    "#D = creates_train_data()\n",
    "\n",
    "np.load.__defaults__=(None, True, True, 'ASCII')\n",
    "D = np.load('train_data_augmented_ps1_2.npy')"
   ]
  },
  {
   "cell_type": "markdown",
   "metadata": {},
   "source": [
    "Each time if you want to create a new '.npy' file \n",
    "MAKE SURE you delete the previous(old) one in the directory!!!! "
   ]
  },
  {
   "cell_type": "code",
   "execution_count": 9,
   "metadata": {},
   "outputs": [
    {
     "name": "stdout",
     "output_type": "stream",
     "text": [
      "Number of samples:  7467\n"
     ]
    }
   ],
   "source": [
    "print(\"Number of samples: \", len(D))"
   ]
  },
  {
   "cell_type": "code",
   "execution_count": 10,
   "metadata": {},
   "outputs": [
    {
     "ename": "StopExecution",
     "evalue": "",
     "output_type": "error",
     "traceback": []
    }
   ],
   "source": [
    "class StopExecution(Exception):\n",
    "    def _render_traceback_(self):\n",
    "        pass\n",
    "\n",
    "raise StopExecution"
   ]
  },
  {
   "cell_type": "code",
   "execution_count": 3,
   "metadata": {},
   "outputs": [],
   "source": [
    "a = np.load('train_data.npy')\n",
    "b = np.load('train_data_augmented_speed_81.npy')\n",
    "c = np.load('train_data_augmented_speed_107.npy')\n",
    "d = np.load('train_data_augmented_ps1_2.npy')\n",
    "e = np.load('train_data_augmented_ps2_m25.npy')"
   ]
  },
  {
   "cell_type": "code",
   "execution_count": 31,
   "metadata": {},
   "outputs": [],
   "source": [
    "np.savez('train.npz',a,b,c,d,e) ############################################################################"
   ]
  },
  {
   "cell_type": "markdown",
   "metadata": {},
   "source": [
    "Need to remove previous version before save a new 'npz'. Otherwise will have bug"
   ]
  },
  {
   "cell_type": "code",
   "execution_count": 32,
   "metadata": {},
   "outputs": [],
   "source": [
    "r = np.load('train.npz') ############################################################################"
   ]
  },
  {
   "cell_type": "code",
   "execution_count": null,
   "metadata": {},
   "outputs": [],
   "source": [
    "locals().update(r) ############################################################################"
   ]
  },
  {
   "cell_type": "code",
   "execution_count": 4,
   "metadata": {},
   "outputs": [
    {
     "data": {
      "text/plain": [
       "37303"
      ]
     },
     "execution_count": 4,
     "metadata": {},
     "output_type": "execute_result"
    }
   ],
   "source": [
    "tuple = (a,b,c,d,e)\n",
    "tuplearr = np.vstack(tuple)\n",
    "len(tuplearr)"
   ]
  },
  {
   "cell_type": "code",
   "execution_count": 5,
   "metadata": {},
   "outputs": [
    {
     "data": {
      "text/plain": [
       "37303"
      ]
     },
     "execution_count": 5,
     "metadata": {},
     "output_type": "execute_result"
    }
   ],
   "source": [
    "dataset = tuplearr\n",
    "random.shuffle(dataset)\n",
    "len(dataset)"
   ]
  },
  {
   "cell_type": "code",
   "execution_count": 26,
   "metadata": {},
   "outputs": [
    {
     "name": "stdout",
     "output_type": "stream",
     "text": [
      "-----------breaking line--------------\n",
      "Train dataset(33572): [ 3731  3732  3733 ... 37300 37301 37302]               Test dataset(3731): [   0    1    2 ... 3728 3729 3730]\n",
      "-----------breaking line--------------\n",
      "Train dataset(33572): [    0     1     2 ... 37300 37301 37302]               Test dataset(3731): [3731 3732 3733 ... 7459 7460 7461]\n",
      "-----------breaking line--------------\n",
      "Train dataset(33572): [    0     1     2 ... 37300 37301 37302]               Test dataset(3731): [ 7462  7463  7464 ... 11190 11191 11192]\n",
      "-----------breaking line--------------\n",
      "Train dataset(33573): [    0     1     2 ... 37300 37301 37302]               Test dataset(3730): [11193 11194 11195 ... 14920 14921 14922]\n",
      "-----------breaking line--------------\n",
      "Train dataset(33573): [    0     1     2 ... 37300 37301 37302]               Test dataset(3730): [14923 14924 14925 ... 18650 18651 18652]\n",
      "-----------breaking line--------------\n",
      "Train dataset(33573): [    0     1     2 ... 37300 37301 37302]               Test dataset(3730): [18653 18654 18655 ... 22380 22381 22382]\n",
      "-----------breaking line--------------\n",
      "Train dataset(33573): [    0     1     2 ... 37300 37301 37302]               Test dataset(3730): [22383 22384 22385 ... 26110 26111 26112]\n",
      "-----------breaking line--------------\n",
      "Train dataset(33573): [    0     1     2 ... 37300 37301 37302]               Test dataset(3730): [26113 26114 26115 ... 29840 29841 29842]\n",
      "-----------breaking line--------------\n",
      "Train dataset(33573): [    0     1     2 ... 37300 37301 37302]               Test dataset(3730): [29843 29844 29845 ... 33570 33571 33572]\n",
      "-----------breaking line--------------\n",
      "Train dataset(33573): [    0     1     2 ... 33570 33571 33572]               Test dataset(3730): [33573 33574 33575 ... 37300 37301 37302]\n"
     ]
    }
   ],
   "source": [
    "kf = KFold(n_splits=10)\n",
    "\n",
    "count = 0\n",
    "\n",
    "keras.backend.clear_session()\n",
    "\n",
    "for train_set, test_set in kf.split(dataset):\n",
    "    print(\"-----------breaking line--------------\")\n",
    "    print( \"Train dataset(\" +str(len(train_set))+\"): \" + str(train_set), \"              Test dataset(\" +str(len(test_set))+\"): \" + str(test_set))"
   ]
  },
  {
   "cell_type": "code",
   "execution_count": 27,
   "metadata": {},
   "outputs": [
    {
     "name": "stdout",
     "output_type": "stream",
     "text": [
      "[ 3731  3732  3733 ... 37300 37301 37302] [   0    1    2 ... 3728 3729 3730]\n",
      "-----------breaking line--------------\n",
      "----------------------------\n",
      "1\n",
      "----------------------------\n"
     ]
    },
    {
     "ename": "MemoryError",
     "evalue": "Unable to allocate 2.05 GiB for an array with shape (33572, 128, 128, 1) and data type float32",
     "output_type": "error",
     "traceback": [
      "\u001b[1;31m---------------------------------------------------------------------------\u001b[0m",
      "\u001b[1;31mMemoryError\u001b[0m                               Traceback (most recent call last)",
      "\u001b[1;32mC:\\Users\\OTSANY~1\\AppData\\Local\\Temp\\2/ipykernel_6680/2575070948.py\u001b[0m in \u001b[0;36m<module>\u001b[1;34m\u001b[0m\n\u001b[0;32m     20\u001b[0m \u001b[1;33m\u001b[0m\u001b[0m\n\u001b[0;32m     21\u001b[0m      \u001b[1;31m# Reshape for CNN input\u001b[0m\u001b[1;33m\u001b[0m\u001b[1;33m\u001b[0m\u001b[1;33m\u001b[0m\u001b[0m\n\u001b[1;32m---> 22\u001b[1;33m      \u001b[0mX_train\u001b[0m \u001b[1;33m=\u001b[0m \u001b[0mnp\u001b[0m\u001b[1;33m.\u001b[0m\u001b[0marray\u001b[0m\u001b[1;33m(\u001b[0m\u001b[1;33m[\u001b[0m\u001b[0mx\u001b[0m\u001b[1;33m.\u001b[0m\u001b[0mreshape\u001b[0m\u001b[1;33m(\u001b[0m \u001b[1;33m(\u001b[0m\u001b[1;36m128\u001b[0m\u001b[1;33m,\u001b[0m \u001b[1;36m128\u001b[0m\u001b[1;33m,\u001b[0m \u001b[1;36m1\u001b[0m\u001b[1;33m)\u001b[0m \u001b[1;33m)\u001b[0m \u001b[1;32mfor\u001b[0m \u001b[0mx\u001b[0m \u001b[1;32min\u001b[0m \u001b[0mX_train\u001b[0m\u001b[1;33m]\u001b[0m\u001b[1;33m)\u001b[0m\u001b[1;33m\u001b[0m\u001b[1;33m\u001b[0m\u001b[0m\n\u001b[0m\u001b[0;32m     23\u001b[0m      \u001b[0mX_test\u001b[0m \u001b[1;33m=\u001b[0m \u001b[0mnp\u001b[0m\u001b[1;33m.\u001b[0m\u001b[0marray\u001b[0m\u001b[1;33m(\u001b[0m\u001b[1;33m[\u001b[0m\u001b[0mx\u001b[0m\u001b[1;33m.\u001b[0m\u001b[0mreshape\u001b[0m\u001b[1;33m(\u001b[0m \u001b[1;33m(\u001b[0m\u001b[1;36m128\u001b[0m\u001b[1;33m,\u001b[0m \u001b[1;36m128\u001b[0m\u001b[1;33m,\u001b[0m \u001b[1;36m1\u001b[0m\u001b[1;33m)\u001b[0m \u001b[1;33m)\u001b[0m \u001b[1;32mfor\u001b[0m \u001b[0mx\u001b[0m \u001b[1;32min\u001b[0m \u001b[0mX_test\u001b[0m\u001b[1;33m]\u001b[0m\u001b[1;33m)\u001b[0m\u001b[1;33m\u001b[0m\u001b[1;33m\u001b[0m\u001b[0m\n\u001b[0;32m     24\u001b[0m \u001b[1;33m\u001b[0m\u001b[0m\n",
      "\u001b[1;31mMemoryError\u001b[0m: Unable to allocate 2.05 GiB for an array with shape (33572, 128, 128, 1) and data type float32"
     ]
    }
   ],
   "source": [
    "#To see how many samples are in X-train and y-train\n",
    "kf = KFold(n_splits=10)\n",
    "\n",
    "count = 0\n",
    "\n",
    "keras.backend.clear_session()\n",
    "\n",
    "for train_set, test_set in kf.split(dataset):\n",
    "     print( train_set, test_set)\n",
    "     print(\"-----------breaking line--------------\")\n",
    "     #X_train, X_test, y_train, y_test = dataset[train_set], dataset[test_set]\n",
    " \n",
    "     print('----------------------------')\n",
    "     count += 1\n",
    "     print(count)\n",
    "     print('----------------------------')\n",
    " \n",
    "     X_train,y_train = zip(*dataset[train_set])\n",
    "     X_test, y_test = zip(*dataset[test_set])\n",
    " \n",
    "     # Reshape for CNN input\n",
    "     X_train = np.array([x.reshape( (128, 128, 1) ) for x in X_train])\n",
    "     X_test = np.array([x.reshape( (128, 128, 1) ) for x in X_test])\n",
    "\n",
    "    #  X_train = np.expand_dims(X_train, axis=3)\n",
    "    #  X_test = np.expand_dims(X_test, axis=3)\n",
    " \n",
    "     # One-Hot encoding for classes\n",
    "     y_train = np.array(keras.utils.to_categorical(y_train, 10))\n",
    "     y_test = np.array(keras.utils.to_categorical(y_test, 10))\n",
    "\n",
    " \n",
    "    #  NAME = \"graphic-{}\".format(int(time.time()))\n",
    "    #  tensorboard = TensorBoard(log_dir='logs{}'.format(NAME +  str(count)))\n",
    " \n",
    " \n",
    "     model = Sequential()\n",
    "     input_shape = ( 128, 128, 1)\n",
    "\n",
    "     model.add(Conv2D(24, (5, 5), strides=(1,1), input_shape = input_shape) )\n",
    "     model.add(MaxPooling2D((4, 2), strides=(4, 2)))\n",
    "     model.add(Activation('relu'))\n",
    " \n",
    "     model.add(Conv2D(48, (5, 5), padding=\"valid\"))\n",
    "     model.add(MaxPooling2D((4, 2), strides=(4, 2)))\n",
    "     model.add(Activation('relu'))\n",
    " \n",
    "     model.add(Conv2D(48, (5, 5), padding=\"valid\"))\n",
    "     model.add(Activation('relu'))\n",
    " \n",
    "     model.add(Flatten())\n",
    "     model.add(Dropout(rate=0.5))\n",
    " \n",
    "     model.add(Dense(64))\n",
    "     model.add(Activation('relu'))\n",
    "     model.add(Dropout(rate=0.5))\n",
    "\n",
    "     \n",
    "     model.add(Reshape((8, 8)))\n",
    "\n",
    "\n",
    "     model.add(LSTM(units = 50, return_sequences=True)) \n",
    "     model.add(LSTM(32))\n",
    "     model.add(Dense(10))\n",
    "     model.add(Activation('softmax'))\n",
    " \n",
    "     #convnet = tflearn.DNN(model, tensorboard_dir='log')\n",
    " \n",
    "     model.compile(\n",
    " \t    optimizer=\"Adam\",\n",
    " \t    loss=\"categorical_crossentropy\",\n",
    " \t    metrics=['accuracy']\n",
    "        )\n",
    "\n",
    "\n",
    "     model.fit(\n",
    " \t    x=X_train, \n",
    " \t    y=y_train,\n",
    "        epochs=12,\n",
    "        batch_size=128,\n",
    "        validation_data = (X_test, y_test),\n",
    " \t    # callbacks=[tensorboard]\n",
    " \t    )\n",
    " \n",
    "     score = model.evaluate(\n",
    " \t    x=X_test,\n",
    " \t    y=y_test\n",
    "        )\n",
    " \n",
    "     print('Test loss:', score[0])\n",
    "     print('Test accuracy:', score[1])\n",
    "     break\n",
    " \n",
    "\n",
    "#model.save('SoundClassification_CNNLSTM.model')\n",
    "\n",
    "    \n",
    "\n",
    "    \n"
   ]
  },
  {
   "cell_type": "code",
   "execution_count": null,
   "metadata": {},
   "outputs": [
    {
     "ename": "StopExecution",
     "evalue": "",
     "output_type": "error",
     "traceback": []
    }
   ],
   "source": [
    "class StopExecution(Exception):\n",
    "    def _render_traceback_(self):\n",
    "        pass\n",
    "\n",
    "raise StopExecution"
   ]
  },
  {
   "cell_type": "code",
   "execution_count": 23,
   "metadata": {},
   "outputs": [],
   "source": [
    "filename = \"\"\n",
    "\n",
    "#Audio-Convertor\n",
    "def audioCon(filename):\n",
    "   from os import path\n",
    "   from pydub import AudioSegment\n",
    "   \n",
    "   # files                                                                         \n",
    "   src = \"Test/{filename}.mp3\"\n",
    "   dst = \"Test/{filename}.wav\"\n",
    "   \n",
    "   # convert wav to mp3                                                            \n",
    "   sound = AudioSegment.from_mp3(src)\n",
    "   sound.export(dst, format=\"wav\")"
   ]
  },
  {
   "cell_type": "code",
   "execution_count": null,
   "metadata": {},
   "outputs": [],
   "source": [
    "audioCon()"
   ]
  },
  {
   "cell_type": "code",
   "execution_count": 81,
   "metadata": {},
   "outputs": [],
   "source": [
    "def prepare(filepath):\n",
    "    y, sr = librosa.load(filepath, duration=2.97)\n",
    "    ps = librosa.feature.melspectrogram(y=y, sr=sr)\n",
    "    ps.shape\n",
    "    return ps.reshape(-1, 128, 128, 1)"
   ]
  },
  {
   "cell_type": "code",
   "execution_count": 67,
   "metadata": {},
   "outputs": [],
   "source": [
    "model = tf.keras.models.load_model(\"SoundClassification.model\")"
   ]
  },
  {
   "cell_type": "code",
   "execution_count": 83,
   "metadata": {},
   "outputs": [
    {
     "name": "stdout",
     "output_type": "stream",
     "text": [
      "0.90739536\n",
      "[[9.0739536e-01 1.0987020e-05 7.2039278e-05 7.7610814e-05 1.3195210e-02\n",
      "  9.4531840e-03 1.2650190e-07 6.9615506e-02 4.5010489e-05 1.3501685e-04]]\n"
     ]
    }
   ],
   "source": [
    "prediction = model.predict([prepare('Test/airc.wav')])\n",
    "max = np.amax(prediction)\n",
    "print(max)\n",
    "print(prediction)"
   ]
  }
 ],
 "metadata": {
  "kernelspec": {
   "display_name": "Python 3 (ipykernel)",
   "language": "python",
   "name": "python3"
  },
  "language_info": {
   "codemirror_mode": {
    "name": "ipython",
    "version": 3
   },
   "file_extension": ".py",
   "mimetype": "text/x-python",
   "name": "python",
   "nbconvert_exporter": "python",
   "pygments_lexer": "ipython3",
   "version": "3.7.11"
  }
 },
 "nbformat": 4,
 "nbformat_minor": 2
}
