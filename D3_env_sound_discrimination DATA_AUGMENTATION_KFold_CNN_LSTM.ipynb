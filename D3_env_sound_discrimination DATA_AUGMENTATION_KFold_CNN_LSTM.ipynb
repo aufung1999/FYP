{
 "cells": [
  {
   "cell_type": "code",
   "execution_count": 1,
   "metadata": {},
   "outputs": [],
   "source": [
    "import keras\n",
    "from keras.layers import Activation, Dense, Dropout, Conv2D, \\\n",
    "                         Flatten, MaxPooling2D, LSTM, TimeDistributed, Reshape\n",
    "from keras.models import Sequential\n",
    "from keras.callbacks import TensorBoard\n",
    "import librosa\n",
    "import librosa.display\n",
    "import numpy as np\n",
    "import pandas as pd\n",
    "import random\n",
    "import matplotlib.pyplot as plt\n",
    "import time\n",
    "import tensorflow as tf\n",
    "from tensorflow.keras.models import Model\n",
    "from sklearn.model_selection import KFold\n",
    "\n",
    "import warnings\n",
    "warnings.filterwarnings('ignore')"
   ]
  },
  {
   "cell_type": "code",
   "execution_count": 3,
   "metadata": {},
   "outputs": [
    {
     "data": {
      "text/html": [
       "<div>\n",
       "<style scoped>\n",
       "    .dataframe tbody tr th:only-of-type {\n",
       "        vertical-align: middle;\n",
       "    }\n",
       "\n",
       "    .dataframe tbody tr th {\n",
       "        vertical-align: top;\n",
       "    }\n",
       "\n",
       "    .dataframe thead th {\n",
       "        text-align: right;\n",
       "    }\n",
       "</style>\n",
       "<table border=\"1\" class=\"dataframe\">\n",
       "  <thead>\n",
       "    <tr style=\"text-align: right;\">\n",
       "      <th></th>\n",
       "      <th>slice_file_name</th>\n",
       "      <th>fsID</th>\n",
       "      <th>start</th>\n",
       "      <th>end</th>\n",
       "      <th>salience</th>\n",
       "      <th>fold</th>\n",
       "      <th>classID</th>\n",
       "      <th>class</th>\n",
       "    </tr>\n",
       "  </thead>\n",
       "  <tbody>\n",
       "    <tr>\n",
       "      <th>0</th>\n",
       "      <td>100032-3-0-0.wav</td>\n",
       "      <td>100032</td>\n",
       "      <td>0.0</td>\n",
       "      <td>0.317551</td>\n",
       "      <td>1</td>\n",
       "      <td>5</td>\n",
       "      <td>3</td>\n",
       "      <td>dog_bark</td>\n",
       "    </tr>\n",
       "    <tr>\n",
       "      <th>1</th>\n",
       "      <td>100263-2-0-117.wav</td>\n",
       "      <td>100263</td>\n",
       "      <td>58.5</td>\n",
       "      <td>62.500000</td>\n",
       "      <td>1</td>\n",
       "      <td>5</td>\n",
       "      <td>2</td>\n",
       "      <td>children_playing</td>\n",
       "    </tr>\n",
       "    <tr>\n",
       "      <th>2</th>\n",
       "      <td>100263-2-0-121.wav</td>\n",
       "      <td>100263</td>\n",
       "      <td>60.5</td>\n",
       "      <td>64.500000</td>\n",
       "      <td>1</td>\n",
       "      <td>5</td>\n",
       "      <td>2</td>\n",
       "      <td>children_playing</td>\n",
       "    </tr>\n",
       "    <tr>\n",
       "      <th>3</th>\n",
       "      <td>100263-2-0-126.wav</td>\n",
       "      <td>100263</td>\n",
       "      <td>63.0</td>\n",
       "      <td>67.000000</td>\n",
       "      <td>1</td>\n",
       "      <td>5</td>\n",
       "      <td>2</td>\n",
       "      <td>children_playing</td>\n",
       "    </tr>\n",
       "    <tr>\n",
       "      <th>4</th>\n",
       "      <td>100263-2-0-137.wav</td>\n",
       "      <td>100263</td>\n",
       "      <td>68.5</td>\n",
       "      <td>72.500000</td>\n",
       "      <td>1</td>\n",
       "      <td>5</td>\n",
       "      <td>2</td>\n",
       "      <td>children_playing</td>\n",
       "    </tr>\n",
       "  </tbody>\n",
       "</table>\n",
       "</div>"
      ],
      "text/plain": [
       "      slice_file_name    fsID  start        end  salience  fold  classID  \\\n",
       "0    100032-3-0-0.wav  100032    0.0   0.317551         1     5        3   \n",
       "1  100263-2-0-117.wav  100263   58.5  62.500000         1     5        2   \n",
       "2  100263-2-0-121.wav  100263   60.5  64.500000         1     5        2   \n",
       "3  100263-2-0-126.wav  100263   63.0  67.000000         1     5        2   \n",
       "4  100263-2-0-137.wav  100263   68.5  72.500000         1     5        2   \n",
       "\n",
       "              class  \n",
       "0          dog_bark  \n",
       "1  children_playing  \n",
       "2  children_playing  \n",
       "3  children_playing  \n",
       "4  children_playing  "
      ]
     },
     "execution_count": 3,
     "metadata": {},
     "output_type": "execute_result"
    }
   ],
   "source": [
    "# Read Data\n",
    "data = pd.read_csv('UrbanSounds8K/metadata/UrbanSound8K.csv')\n",
    "data.head(5)"
   ]
  },
  {
   "cell_type": "code",
   "execution_count": 4,
   "metadata": {},
   "outputs": [
    {
     "data": {
      "text/plain": [
       "(8732, 8)"
      ]
     },
     "execution_count": 4,
     "metadata": {},
     "output_type": "execute_result"
    }
   ],
   "source": [
    "data.shape"
   ]
  },
  {
   "cell_type": "code",
   "execution_count": 5,
   "metadata": {},
   "outputs": [
    {
     "data": {
      "text/plain": [
       "(7468, 4)"
      ]
     },
     "execution_count": 5,
     "metadata": {},
     "output_type": "execute_result"
    }
   ],
   "source": [
    "# Get data over 3 seconds long\n",
    "valid_data = data[['slice_file_name', 'fold' ,'classID', 'class']][ data['end']-data['start'] >= 3 ]\n",
    "valid_data.shape"
   ]
  },
  {
   "cell_type": "code",
   "execution_count": 6,
   "metadata": {},
   "outputs": [
    {
     "data": {
      "text/plain": [
       "<matplotlib.collections.QuadMesh at 0x17b14edef08>"
      ]
     },
     "execution_count": 6,
     "metadata": {},
     "output_type": "execute_result"
    },
    {
     "data": {
      "image/png": "[encoded data removed]",
      "text/plain": [
       "<Figure size 432x288 with 1 Axes>"
      ]
     },
     "metadata": {
      "needs_background": "light"
     },
     "output_type": "display_data"
    }
   ],
   "source": [
    "y, sr = librosa.load('UrbanSounds8K/audio/fold9/13579-2-0-16.wav', duration=2.97)\n",
    "ps = librosa.feature.melspectrogram(y=y, sr=sr)\n",
    "ps.shape\n",
    "\n",
    "mel_sgram = librosa.amplitude_to_db(ps, ref=np.min)\n",
    "\n",
    "librosa.display.specshow(ps, y_axis='mel', x_axis='time')"
   ]
  },
  {
   "cell_type": "code",
   "execution_count": 7,
   "metadata": {},
   "outputs": [],
   "source": [
    "valid_data['path'] = 'fold' + valid_data['fold'].astype('str') + '/' + valid_data['slice_file_name'].astype('str')"
   ]
  },
  {
   "cell_type": "code",
   "execution_count": 6,
   "metadata": {},
   "outputs": [],
   "source": [
    "#Use it to create data ######################################################################\n",
    "def creates_train_data():\n",
    "    D = [] # Dataset\n",
    "\n",
    "    for row in valid_data.itertuples():\n",
    "        y, sr = librosa.load('UrbanSounds8K/augmented/ps2_m25/' + row.path, duration=2.97)  #2.97 = 3*1000 - 3*1000/128  ###############################\n",
    "        ps = librosa.feature.melspectrogram(y=y, sr=sr)\n",
    "        if ps.shape != (128, 128): continue\n",
    "        D.append( (ps, row.classID) )\n",
    "    np.save('train_data_augmented_ps2_m25.npy', D) ###############################\n",
    "    return D"
   ]
  },
  {
   "cell_type": "code",
   "execution_count": 7,
   "metadata": {},
   "outputs": [
    {
     "ename": "AttributeError",
     "evalue": "'Pandas' object has no attribute 'path'",
     "output_type": "error",
     "traceback": [
      "\u001b[1;31m---------------------------------------------------------------------------\u001b[0m",
      "\u001b[1;31mAttributeError\u001b[0m                            Traceback (most recent call last)",
      "\u001b[1;32mC:\\Users\\OTSANY~1\\AppData\\Local\\Temp\\2/ipykernel_1988/1338529116.py\u001b[0m in \u001b[0;36m<module>\u001b[1;34m\u001b[0m\n\u001b[0;32m      4\u001b[0m \u001b[1;33m\u001b[0m\u001b[0m\n\u001b[0;32m      5\u001b[0m \u001b[1;32mfor\u001b[0m \u001b[0mrow\u001b[0m \u001b[1;32min\u001b[0m \u001b[0mvalid_data\u001b[0m\u001b[1;33m.\u001b[0m\u001b[0mitertuples\u001b[0m\u001b[1;33m(\u001b[0m\u001b[1;33m)\u001b[0m\u001b[1;33m:\u001b[0m\u001b[1;33m\u001b[0m\u001b[1;33m\u001b[0m\u001b[0m\n\u001b[1;32m----> 6\u001b[1;33m     \u001b[0my\u001b[0m\u001b[1;33m,\u001b[0m \u001b[0msr\u001b[0m \u001b[1;33m=\u001b[0m \u001b[0mlibrosa\u001b[0m\u001b[1;33m.\u001b[0m\u001b[0mload\u001b[0m\u001b[1;33m(\u001b[0m\u001b[1;34m'UrbanSounds8K/augmented/ps2_m25/'\u001b[0m \u001b[1;33m+\u001b[0m \u001b[0mrow\u001b[0m\u001b[1;33m.\u001b[0m\u001b[0mpath\u001b[0m\u001b[1;33m,\u001b[0m \u001b[0mduration\u001b[0m\u001b[1;33m=\u001b[0m\u001b[1;36m2.97\u001b[0m\u001b[1;33m)\u001b[0m  \u001b[1;31m#2.97 = 3*1000 - 3*1000/128  ###############################\u001b[0m\u001b[1;33m\u001b[0m\u001b[1;33m\u001b[0m\u001b[0m\n\u001b[0m\u001b[0;32m      7\u001b[0m     \u001b[0mps\u001b[0m \u001b[1;33m=\u001b[0m \u001b[0mlibrosa\u001b[0m\u001b[1;33m.\u001b[0m\u001b[0mfeature\u001b[0m\u001b[1;33m.\u001b[0m\u001b[0mmelspectrogram\u001b[0m\u001b[1;33m(\u001b[0m\u001b[0my\u001b[0m\u001b[1;33m=\u001b[0m\u001b[0my\u001b[0m\u001b[1;33m,\u001b[0m \u001b[0msr\u001b[0m\u001b[1;33m=\u001b[0m\u001b[0msr\u001b[0m\u001b[1;33m)\u001b[0m\u001b[1;33m\u001b[0m\u001b[1;33m\u001b[0m\u001b[0m\n\u001b[0;32m      8\u001b[0m     \u001b[1;32mif\u001b[0m \u001b[0mps\u001b[0m\u001b[1;33m.\u001b[0m\u001b[0mshape\u001b[0m \u001b[1;33m!=\u001b[0m \u001b[1;33m(\u001b[0m\u001b[1;36m128\u001b[0m\u001b[1;33m,\u001b[0m \u001b[1;36m128\u001b[0m\u001b[1;33m)\u001b[0m\u001b[1;33m:\u001b[0m \u001b[1;32mcontinue\u001b[0m\u001b[1;33m\u001b[0m\u001b[1;33m\u001b[0m\u001b[0m\n",
      "\u001b[1;31mAttributeError\u001b[0m: 'Pandas' object has no attribute 'path'"
     ]
    }
   ],
   "source": [
    "#Use it to create data ######################################################################\n",
    "\n",
    "tryd = [] # Dataset\n",
    "\n",
    "for row in valid_data.itertuples():\n",
    "    y, sr = librosa.load('UrbanSounds8K/augmented/ps2_m25/' + row.path, duration=2.97)  #2.97 = 3*1000 - 3*1000/128  ###############################\n",
    "    ps = librosa.feature.melspectrogram(y=y, sr=sr)\n",
    "    if ps.shape != (128, 128): continue\n",
    "    tryd.append( (ps, row.classID) )\n",
    "    #np.save('train_data_augmented_ps2_m25.npy', D) ###############################\n",
    "\n"
   ]
  },
  {
   "cell_type": "code",
   "execution_count": 2,
   "metadata": {},
   "outputs": [],
   "source": [
    "#D = creates_train_data()\n",
    "\n",
    "np.load.__defaults__=(None, True, True, 'ASCII')\n",
    "D = np.load('train_data_augmented_ps1_2.npy')"
   ]
  },
  {
   "cell_type": "markdown",
   "metadata": {},
   "source": [
    "Each time if you want to create a new '.npy' file \n",
    "MAKE SURE you delete the previous(old) one in the directory!!!! "
   ]
  },
  {
   "cell_type": "code",
   "execution_count": 9,
   "metadata": {},
   "outputs": [
    {
     "name": "stdout",
     "output_type": "stream",
     "text": [
      "Number of samples:  7467\n"
     ]
    }
   ],
   "source": [
    "print(\"Number of samples: \", len(D))"
   ]
  },
  {
   "cell_type": "code",
   "execution_count": 10,
   "metadata": {},
   "outputs": [
    {
     "ename": "StopExecution",
     "evalue": "",
     "output_type": "error",
     "traceback": []
    }
   ],
   "source": [
    "class StopExecution(Exception):\n",
    "    def _render_traceback_(self):\n",
    "        pass\n",
    "\n",
    "raise StopExecution"
   ]
  },
  {
   "cell_type": "code",
   "execution_count": 3,
   "metadata": {},
   "outputs": [],
   "source": [
    "a = np.load('train_data.npy')\n",
    "b = np.load('train_data_augmented_speed_81.npy')\n",
    "c = np.load('train_data_augmented_speed_107.npy')\n",
    "d = np.load('train_data_augmented_ps1_2.npy')\n",
    "e = np.load('train_data_augmented_ps2_m25.npy')"
   ]
  },
  {
   "cell_type": "code",
   "execution_count": 31,
   "metadata": {},
   "outputs": [],
   "source": [
    "np.savez('train.npz',a,b,c,d,e) ############################################################################"
   ]
  },
  {
   "cell_type": "markdown",
   "metadata": {},
   "source": [
    "Need to remove previous version before save a new 'npz'. Otherwise will have bug"
   ]
  },
  {
   "cell_type": "code",
   "execution_count": 32,
   "metadata": {},
   "outputs": [],
   "source": [
    "r = np.load('train.npz') ############################################################################"
   ]
  },
  {
   "cell_type": "code",
   "execution_count": null,
   "metadata": {},
   "outputs": [],
   "source": [
    "locals().update(r) ############################################################################"
   ]
  },
  {
   "cell_type": "code",
   "execution_count": 4,
   "metadata": {},
   "outputs": [
    {
     "data": {
      "text/plain": [
       "37303"
      ]
     },
     "execution_count": 4,
     "metadata": {},
     "output_type": "execute_result"
    }
   ],
   "source": [
    "tuple = (a,b,c,d,e)\n",
    "tuplearr = np.vstack(tuple)\n",
    "len(tuplearr)"
   ]
  },
  {
   "cell_type": "code",
   "execution_count": 5,
   "metadata": {},
   "outputs": [
    {
     "data": {
      "text/plain": [
       "37303"
      ]
     },
     "execution_count": 5,
     "metadata": {},
     "output_type": "execute_result"
    }
   ],
   "source": [
    "dataset = tuplearr\n",
    "random.shuffle(dataset)\n",
    "len(dataset)"
   ]
  },
  {
   "cell_type": "code",
   "execution_count": 2,
   "metadata": {},
   "outputs": [
    {
     "data": {
      "text/plain": [
       "37303"
      ]
     },
     "execution_count": 2,
     "metadata": {},
     "output_type": "execute_result"
    }
   ],
   "source": [
    "np.load.__defaults__=(None, True, True, 'ASCII')\n",
    "D = np.load('train_data_augmented_ps1_2.npy')\n",
    "a = np.load('train_data.npy')\n",
    "b = np.load('train_data_augmented_speed_81.npy')\n",
    "c = np.load('train_data_augmented_speed_107.npy')\n",
    "d = np.load('train_data_augmented_ps1_2.npy')\n",
    "e = np.load('train_data_augmented_ps2_m25.npy')\n",
    "tuple = (a,b,c,d,e)\n",
    "tuplearr = np.vstack(tuple)\n",
    "len(tuplearr)\n",
    "dataset = tuplearr\n",
    "random.shuffle(dataset)\n",
    "len(dataset)"
   ]
  },
  {
   "cell_type": "code",
   "execution_count": 5,
   "metadata": {},
   "outputs": [
    {
     "name": "stdout",
     "output_type": "stream",
     "text": [
      "[ 3731  3732  3733 ... 37300 37301 37302] [   0    1    2 ... 3728 3729 3730]\n",
      "-----------breaking line--------------\n",
      "----------------------------\n",
      "1\n",
      "----------------------------\n",
      "Epoch 1/12\n",
      "  2/263 [..............................] - ETA: 5:03 - loss: 2.3030 - accuracy: 0.0977WARNING:tensorflow:Callbacks method `on_train_batch_end` is slow compared to the batch time (batch time: 0.4326s vs `on_train_batch_end` time: 1.8904s). Check your callbacks.\n",
      "263/263 [==============================] - 126s 479ms/step - loss: 1.6925 - accuracy: 0.3751 - val_loss: 1.2411 - val_accuracy: 0.5213\n",
      "Epoch 2/12\n",
      "263/263 [==============================] - 121s 461ms/step - loss: 1.2934 - accuracy: 0.5343 - val_loss: 1.0648 - val_accuracy: 0.5875\n",
      "Epoch 3/12\n",
      "263/263 [==============================] - 119s 454ms/step - loss: 1.1200 - accuracy: 0.6033 - val_loss: 0.8187 - val_accuracy: 0.7068\n",
      "Epoch 4/12\n",
      "263/263 [==============================] - 118s 447ms/step - loss: 0.9987 - accuracy: 0.6582 - val_loss: 0.7135 - val_accuracy: 0.7523\n",
      "Epoch 5/12\n",
      "263/263 [==============================] - 118s 448ms/step - loss: 0.9171 - accuracy: 0.6904 - val_loss: 0.6232 - val_accuracy: 0.8003\n",
      "Epoch 6/12\n",
      "263/263 [==============================] - 118s 449ms/step - loss: 0.8171 - accuracy: 0.7294 - val_loss: 0.5133 - val_accuracy: 0.8250\n",
      "Epoch 7/12\n",
      "263/263 [==============================] - 118s 450ms/step - loss: 0.7623 - accuracy: 0.7525 - val_loss: 0.5138 - val_accuracy: 0.8504\n",
      "Epoch 8/12\n",
      "263/263 [==============================] - 118s 449ms/step - loss: 0.7131 - accuracy: 0.7691 - val_loss: 0.4140 - val_accuracy: 0.8740\n",
      "Epoch 9/12\n",
      "263/263 [==============================] - 118s 448ms/step - loss: 0.6694 - accuracy: 0.7852 - val_loss: 0.3472 - val_accuracy: 0.8957\n",
      "Epoch 10/12\n",
      "263/263 [==============================] - 117s 444ms/step - loss: 0.6334 - accuracy: 0.7997 - val_loss: 0.3256 - val_accuracy: 0.8990\n",
      "Epoch 11/12\n",
      "263/263 [==============================] - 118s 448ms/step - loss: 0.5917 - accuracy: 0.8121 - val_loss: 0.3655 - val_accuracy: 0.8904\n",
      "Epoch 12/12\n",
      "263/263 [==============================] - 119s 451ms/step - loss: 0.5684 - accuracy: 0.8209 - val_loss: 0.2897 - val_accuracy: 0.9107\n",
      "117/117 [==============================] - 5s 39ms/step - loss: 0.2897 - accuracy: 0.9107\n",
      "Test loss: 0.28969332575798035\n",
      "Test accuracy: 0.910747766494751\n",
      "[    0     1     2 ... 37300 37301 37302] [3731 3732 3733 ... 7459 7460 7461]\n",
      "-----------breaking line--------------\n",
      "----------------------------\n",
      "2\n",
      "----------------------------\n",
      "Epoch 1/12\n",
      "  2/263 [..............................] - ETA: 5:08 - loss: 2.3086 - accuracy: 0.1523WARNING:tensorflow:Callbacks method `on_train_batch_end` is slow compared to the batch time (batch time: 0.4423s vs `on_train_batch_end` time: 1.9220s). Check your callbacks.\n",
      "263/263 [==============================] - 120s 455ms/step - loss: 1.6449 - accuracy: 0.3883 - val_loss: 1.2459 - val_accuracy: 0.5540\n",
      "Epoch 2/12\n",
      "263/263 [==============================] - 118s 450ms/step - loss: 1.2014 - accuracy: 0.5689 - val_loss: 0.9269 - val_accuracy: 0.6703\n",
      "Epoch 3/12\n",
      "263/263 [==============================] - 118s 449ms/step - loss: 0.9827 - accuracy: 0.6676 - val_loss: 0.6872 - val_accuracy: 0.7695\n",
      "Epoch 4/12\n",
      "263/263 [==============================] - 118s 449ms/step - loss: 0.8568 - accuracy: 0.7187 - val_loss: 0.6394 - val_accuracy: 0.8041\n",
      "Epoch 5/12\n",
      "263/263 [==============================] - 117s 446ms/step - loss: 0.7584 - accuracy: 0.7582 - val_loss: 0.5236 - val_accuracy: 0.8424\n",
      "Epoch 6/12\n",
      "263/263 [==============================] - 117s 446ms/step - loss: 0.6869 - accuracy: 0.7818 - val_loss: 0.5027 - val_accuracy: 0.8488\n",
      "Epoch 7/12\n",
      "263/263 [==============================] - 117s 443ms/step - loss: 0.6325 - accuracy: 0.7981 - val_loss: 0.4681 - val_accuracy: 0.8571\n",
      "Epoch 8/12\n",
      "263/263 [==============================] - 117s 444ms/step - loss: 0.5817 - accuracy: 0.8149 - val_loss: 0.4212 - val_accuracy: 0.8770\n",
      "Epoch 9/12\n",
      "263/263 [==============================] - 117s 445ms/step - loss: 0.5440 - accuracy: 0.8308 - val_loss: 0.3712 - val_accuracy: 0.8888\n",
      "Epoch 10/12\n",
      "263/263 [==============================] - 117s 444ms/step - loss: 0.5098 - accuracy: 0.8413 - val_loss: 0.3518 - val_accuracy: 0.8952\n",
      "Epoch 11/12\n",
      "263/263 [==============================] - 118s 450ms/step - loss: 0.4805 - accuracy: 0.8508 - val_loss: 0.2829 - val_accuracy: 0.9121\n",
      "Epoch 12/12\n",
      "263/263 [==============================] - 117s 443ms/step - loss: 0.4696 - accuracy: 0.8554 - val_loss: 0.2943 - val_accuracy: 0.9124\n",
      "117/117 [==============================] - 5s 40ms/step - loss: 0.2943 - accuracy: 0.9124\n",
      "Test loss: 0.2942844033241272\n",
      "Test accuracy: 0.9123559594154358\n",
      "[    0     1     2 ... 37300 37301 37302] [ 7462  7463  7464 ... 11190 11191 11192]\n",
      "-----------breaking line--------------\n",
      "----------------------------\n",
      "3\n",
      "----------------------------\n",
      "Epoch 1/12\n",
      "  2/263 [..............................] - ETA: 5:18 - loss: 2.3090 - accuracy: 0.1406WARNING:tensorflow:Callbacks method `on_train_batch_end` is slow compared to the batch time (batch time: 0.4493s vs `on_train_batch_end` time: 1.9870s). Check your callbacks.\n",
      "263/263 [==============================] - 120s 458ms/step - loss: 1.6726 - accuracy: 0.3789 - val_loss: 1.3214 - val_accuracy: 0.5307\n",
      "Epoch 2/12\n",
      "263/263 [==============================] - 119s 451ms/step - loss: 1.2422 - accuracy: 0.5542 - val_loss: 1.0258 - val_accuracy: 0.6497\n",
      "Epoch 3/12\n",
      "263/263 [==============================] - 117s 446ms/step - loss: 1.0320 - accuracy: 0.6501 - val_loss: 0.8413 - val_accuracy: 0.7234\n",
      "Epoch 4/12\n",
      "263/263 [==============================] - 118s 449ms/step - loss: 0.9017 - accuracy: 0.7060 - val_loss: 0.7495 - val_accuracy: 0.7569\n",
      "Epoch 5/12\n",
      "263/263 [==============================] - 118s 450ms/step - loss: 0.8121 - accuracy: 0.7401 - val_loss: 0.7153 - val_accuracy: 0.7735\n",
      "Epoch 6/12\n",
      "263/263 [==============================] - 119s 451ms/step - loss: 0.7752 - accuracy: 0.7536 - val_loss: 0.6119 - val_accuracy: 0.8073\n",
      "Epoch 7/12\n",
      "263/263 [==============================] - 118s 450ms/step - loss: 0.6975 - accuracy: 0.7817 - val_loss: 0.5478 - val_accuracy: 0.8282\n",
      "Epoch 8/12\n",
      "263/263 [==============================] - 118s 449ms/step - loss: 0.6655 - accuracy: 0.7917 - val_loss: 0.5356 - val_accuracy: 0.8370\n",
      "Epoch 9/12\n",
      "263/263 [==============================] - 118s 450ms/step - loss: 0.6281 - accuracy: 0.8024 - val_loss: 0.5020 - val_accuracy: 0.8464\n",
      "Epoch 10/12\n",
      "263/263 [==============================] - 118s 450ms/step - loss: 0.6297 - accuracy: 0.8004 - val_loss: 0.5374 - val_accuracy: 0.8298\n",
      "Epoch 11/12\n",
      "263/263 [==============================] - 118s 448ms/step - loss: 0.5801 - accuracy: 0.8201 - val_loss: 0.4644 - val_accuracy: 0.8518\n",
      "Epoch 12/12\n",
      "263/263 [==============================] - 118s 450ms/step - loss: 0.5356 - accuracy: 0.8310 - val_loss: 0.4219 - val_accuracy: 0.8673\n",
      "117/117 [==============================] - 5s 42ms/step - loss: 0.4219 - accuracy: 0.8673\n",
      "Test loss: 0.4218750596046448\n",
      "Test accuracy: 0.8673278093338013\n",
      "[    0     1     2 ... 37300 37301 37302] [11193 11194 11195 ... 14920 14921 14922]\n",
      "-----------breaking line--------------\n",
      "----------------------------\n",
      "4\n",
      "----------------------------\n",
      "Epoch 1/12\n",
      "  2/263 [..............................] - ETA: 5:10 - loss: 2.2943 - accuracy: 0.1523WARNING:tensorflow:Callbacks method `on_train_batch_end` is slow compared to the batch time (batch time: 0.4219s vs `on_train_batch_end` time: 1.9540s). Check your callbacks.\n",
      "263/263 [==============================] - 120s 456ms/step - loss: 1.7071 - accuracy: 0.3723 - val_loss: 1.3446 - val_accuracy: 0.4976\n",
      "Epoch 2/12\n",
      "263/263 [==============================] - 115s 437ms/step - loss: 1.2131 - accuracy: 0.5716 - val_loss: 1.0270 - val_accuracy: 0.6517\n",
      "Epoch 3/12\n",
      "263/263 [==============================] - 114s 433ms/step - loss: 1.0198 - accuracy: 0.6513 - val_loss: 0.8715 - val_accuracy: 0.7164\n",
      "Epoch 4/12\n",
      "263/263 [==============================] - 114s 432ms/step - loss: 0.8841 - accuracy: 0.7045 - val_loss: 0.7431 - val_accuracy: 0.7606\n",
      "Epoch 5/12\n",
      "263/263 [==============================] - 115s 438ms/step - loss: 0.7963 - accuracy: 0.7423 - val_loss: 0.7126 - val_accuracy: 0.7649\n",
      "Epoch 6/12\n",
      "263/263 [==============================] - 115s 438ms/step - loss: 0.7077 - accuracy: 0.7767 - val_loss: 0.6351 - val_accuracy: 0.7971\n",
      "Epoch 7/12\n",
      "263/263 [==============================] - 115s 439ms/step - loss: 0.6768 - accuracy: 0.7841 - val_loss: 0.6015 - val_accuracy: 0.8134\n",
      "Epoch 8/12\n",
      "263/263 [==============================] - 116s 440ms/step - loss: 0.6076 - accuracy: 0.8093 - val_loss: 0.5391 - val_accuracy: 0.8351\n",
      "Epoch 9/12\n",
      "263/263 [==============================] - 115s 439ms/step - loss: 0.5699 - accuracy: 0.8175 - val_loss: 0.5189 - val_accuracy: 0.8386\n",
      "Epoch 10/12\n",
      "263/263 [==============================] - 116s 442ms/step - loss: 0.5413 - accuracy: 0.8288 - val_loss: 0.4826 - val_accuracy: 0.8531\n",
      "Epoch 11/12\n",
      "263/263 [==============================] - 115s 438ms/step - loss: 0.5222 - accuracy: 0.8344 - val_loss: 0.4466 - val_accuracy: 0.8646\n",
      "Epoch 12/12\n",
      "263/263 [==============================] - 115s 437ms/step - loss: 0.5081 - accuracy: 0.8391 - val_loss: 0.4989 - val_accuracy: 0.8469\n",
      "117/117 [==============================] - 5s 40ms/step - loss: 0.4989 - accuracy: 0.8469\n",
      "Test loss: 0.4988827705383301\n",
      "Test accuracy: 0.846916913986206\n",
      "[    0     1     2 ... 37300 37301 37302] [14923 14924 14925 ... 18650 18651 18652]\n",
      "-----------breaking line--------------\n",
      "----------------------------\n",
      "5\n",
      "----------------------------\n",
      "Epoch 1/12\n",
      "  2/263 [..............................] - ETA: 5:24 - loss: 2.2971 - accuracy: 0.0938WARNING:tensorflow:Callbacks method `on_train_batch_end` is slow compared to the batch time (batch time: 0.4532s vs `on_train_batch_end` time: 2.0316s). Check your callbacks.\n",
      "263/263 [==============================] - 122s 464ms/step - loss: 1.7267 - accuracy: 0.3542 - val_loss: 1.3353 - val_accuracy: 0.5121\n",
      "Epoch 2/12\n",
      "263/263 [==============================] - 121s 461ms/step - loss: 1.2588 - accuracy: 0.5527 - val_loss: 1.0096 - val_accuracy: 0.6501\n",
      "Epoch 3/12\n",
      "263/263 [==============================] - 120s 456ms/step - loss: 1.0278 - accuracy: 0.6560 - val_loss: 0.8200 - val_accuracy: 0.7357\n",
      "Epoch 4/12\n",
      "263/263 [==============================] - 121s 461ms/step - loss: 0.8903 - accuracy: 0.7095 - val_loss: 0.7435 - val_accuracy: 0.7660\n",
      "Epoch 5/12\n",
      "263/263 [==============================] - 121s 459ms/step - loss: 0.8170 - accuracy: 0.7362 - val_loss: 0.7186 - val_accuracy: 0.7673\n",
      "Epoch 6/12\n",
      "263/263 [==============================] - 120s 457ms/step - loss: 0.7642 - accuracy: 0.7550 - val_loss: 0.6073 - val_accuracy: 0.8086\n",
      "Epoch 7/12\n",
      "263/263 [==============================] - 118s 449ms/step - loss: 0.6924 - accuracy: 0.7773 - val_loss: 0.5981 - val_accuracy: 0.8145\n",
      "Epoch 8/12\n",
      "263/263 [==============================] - 118s 448ms/step - loss: 0.6558 - accuracy: 0.7903 - val_loss: 0.5113 - val_accuracy: 0.8378\n",
      "Epoch 9/12\n",
      "263/263 [==============================] - 120s 457ms/step - loss: 0.6125 - accuracy: 0.8039 - val_loss: 0.5154 - val_accuracy: 0.8421\n",
      "Epoch 10/12\n",
      "263/263 [==============================] - 120s 456ms/step - loss: 0.5679 - accuracy: 0.8193 - val_loss: 0.4572 - val_accuracy: 0.8627\n",
      "Epoch 11/12\n",
      "263/263 [==============================] - 118s 450ms/step - loss: 0.5711 - accuracy: 0.8199 - val_loss: 0.4656 - val_accuracy: 0.8536\n",
      "Epoch 12/12\n",
      "263/263 [==============================] - 118s 450ms/step - loss: 0.5387 - accuracy: 0.8315 - val_loss: 0.4195 - val_accuracy: 0.8780\n",
      "117/117 [==============================] - 5s 42ms/step - loss: 0.4195 - accuracy: 0.8780\n",
      "Test loss: 0.41948962211608887\n",
      "Test accuracy: 0.8780161142349243\n",
      "[    0     1     2 ... 37300 37301 37302] [18653 18654 18655 ... 22380 22381 22382]\n",
      "-----------breaking line--------------\n",
      "----------------------------\n",
      "6\n",
      "----------------------------\n",
      "Epoch 1/12\n",
      "  2/263 [..............................] - ETA: 5:20 - loss: 2.2921 - accuracy: 0.0859WARNING:tensorflow:Callbacks method `on_train_batch_end` is slow compared to the batch time (batch time: 0.4140s vs `on_train_batch_end` time: 2.0438s). Check your callbacks.\n",
      "263/263 [==============================] - 119s 453ms/step - loss: 1.7000 - accuracy: 0.3713 - val_loss: 1.3839 - val_accuracy: 0.4984\n",
      "Epoch 2/12\n",
      "263/263 [==============================] - 116s 440ms/step - loss: 1.2261 - accuracy: 0.5676 - val_loss: 1.0363 - val_accuracy: 0.6523\n",
      "Epoch 3/12\n",
      "263/263 [==============================] - 115s 437ms/step - loss: 1.0186 - accuracy: 0.6580 - val_loss: 0.9025 - val_accuracy: 0.7083\n",
      "Epoch 4/12\n",
      "263/263 [==============================] - 115s 438ms/step - loss: 0.8794 - accuracy: 0.7172 - val_loss: 0.8470 - val_accuracy: 0.7150\n",
      "Epoch 5/12\n",
      "263/263 [==============================] - 115s 437ms/step - loss: 0.8013 - accuracy: 0.7418 - val_loss: 0.7474 - val_accuracy: 0.7550\n",
      "Epoch 6/12\n",
      "263/263 [==============================] - 115s 438ms/step - loss: 0.7186 - accuracy: 0.7683 - val_loss: 0.6945 - val_accuracy: 0.7769\n",
      "Epoch 7/12\n",
      "263/263 [==============================] - 114s 434ms/step - loss: 0.6665 - accuracy: 0.7882 - val_loss: 0.6446 - val_accuracy: 0.7981\n",
      "Epoch 8/12\n",
      "263/263 [==============================] - 115s 436ms/step - loss: 0.6262 - accuracy: 0.8008 - val_loss: 0.5920 - val_accuracy: 0.8145\n",
      "Epoch 9/12\n",
      "263/263 [==============================] - 114s 434ms/step - loss: 0.5844 - accuracy: 0.8129 - val_loss: 0.5765 - val_accuracy: 0.8174\n",
      "Epoch 10/12\n",
      "263/263 [==============================] - 115s 436ms/step - loss: 0.5513 - accuracy: 0.8264 - val_loss: 0.5847 - val_accuracy: 0.8062\n",
      "Epoch 11/12\n",
      "263/263 [==============================] - 115s 438ms/step - loss: 0.5293 - accuracy: 0.8328 - val_loss: 0.4867 - val_accuracy: 0.8466\n",
      "Epoch 12/12\n",
      "263/263 [==============================] - 115s 438ms/step - loss: 0.5188 - accuracy: 0.8361 - val_loss: 0.5137 - val_accuracy: 0.8324\n",
      "117/117 [==============================] - 5s 40ms/step - loss: 0.5137 - accuracy: 0.8324\n",
      "Test loss: 0.5137338638305664\n",
      "Test accuracy: 0.832439661026001\n",
      "[    0     1     2 ... 37300 37301 37302] [22383 22384 22385 ... 26110 26111 26112]\n",
      "-----------breaking line--------------\n",
      "----------------------------\n",
      "7\n",
      "----------------------------\n",
      "Epoch 1/12\n",
      "  2/263 [..............................] - ETA: 6:14 - loss: 2.2899 - accuracy: 0.0820WARNING:tensorflow:Callbacks method `on_train_batch_end` is slow compared to the batch time (batch time: 0.4121s vs `on_train_batch_end` time: 2.4578s). Check your callbacks.\n",
      "263/263 [==============================] - 117s 443ms/step - loss: 1.6573 - accuracy: 0.3981 - val_loss: 1.3282 - val_accuracy: 0.5303\n",
      "Epoch 2/12\n",
      "263/263 [==============================] - 114s 432ms/step - loss: 1.2056 - accuracy: 0.5794 - val_loss: 1.1306 - val_accuracy: 0.6153\n",
      "Epoch 3/12\n",
      "263/263 [==============================] - 113s 431ms/step - loss: 0.9746 - accuracy: 0.6813 - val_loss: 0.9576 - val_accuracy: 0.6890\n",
      "Epoch 4/12\n",
      "263/263 [==============================] - 113s 429ms/step - loss: 0.8458 - accuracy: 0.7266 - val_loss: 0.7840 - val_accuracy: 0.7507\n",
      "Epoch 5/12\n",
      "263/263 [==============================] - 113s 430ms/step - loss: 0.7443 - accuracy: 0.7645 - val_loss: 0.7203 - val_accuracy: 0.7853\n",
      "Epoch 6/12\n",
      "263/263 [==============================] - 114s 434ms/step - loss: 0.6901 - accuracy: 0.7802 - val_loss: 0.6566 - val_accuracy: 0.7914\n",
      "Epoch 7/12\n",
      "263/263 [==============================] - 114s 434ms/step - loss: 0.6222 - accuracy: 0.8053 - val_loss: 0.5985 - val_accuracy: 0.8174\n",
      "Epoch 8/12\n",
      "263/263 [==============================] - 114s 433ms/step - loss: 0.5844 - accuracy: 0.8181 - val_loss: 0.6002 - val_accuracy: 0.8185\n",
      "Epoch 9/12\n",
      "263/263 [==============================] - 115s 436ms/step - loss: 0.5311 - accuracy: 0.8375 - val_loss: 0.5309 - val_accuracy: 0.8383\n",
      "Epoch 10/12\n",
      "263/263 [==============================] - 114s 434ms/step - loss: 0.5001 - accuracy: 0.8468 - val_loss: 0.4732 - val_accuracy: 0.8582\n",
      "Epoch 11/12\n",
      "263/263 [==============================] - 114s 432ms/step - loss: 0.5096 - accuracy: 0.8457 - val_loss: 0.5048 - val_accuracy: 0.8461\n",
      "Epoch 12/12\n",
      "263/263 [==============================] - 113s 431ms/step - loss: 0.4401 - accuracy: 0.8651 - val_loss: 0.4328 - val_accuracy: 0.8721\n",
      "117/117 [==============================] - 5s 40ms/step - loss: 0.4328 - accuracy: 0.8721\n",
      "Test loss: 0.4327729344367981\n",
      "Test accuracy: 0.8721179366111755\n",
      "[    0     1     2 ... 37300 37301 37302] [26113 26114 26115 ... 29840 29841 29842]\n",
      "-----------breaking line--------------\n",
      "----------------------------\n",
      "8\n",
      "----------------------------\n",
      "Epoch 1/12\n",
      "  2/263 [..............................] - ETA: 5:18 - loss: 2.2962 - accuracy: 0.1289WARNING:tensorflow:Callbacks method `on_train_batch_end` is slow compared to the batch time (batch time: 0.4267s vs `on_train_batch_end` time: 2.0146s). Check your callbacks.\n",
      "263/263 [==============================] - 115s 439ms/step - loss: 1.7418 - accuracy: 0.3479 - val_loss: 1.4240 - val_accuracy: 0.4753\n",
      "Epoch 2/12\n",
      "263/263 [==============================] - 113s 429ms/step - loss: 1.3028 - accuracy: 0.5319 - val_loss: 1.0830 - val_accuracy: 0.6086\n",
      "Epoch 3/12\n",
      "263/263 [==============================] - 112s 425ms/step - loss: 1.0913 - accuracy: 0.6225 - val_loss: 0.9905 - val_accuracy: 0.6531\n",
      "Epoch 4/12\n",
      "263/263 [==============================] - 112s 425ms/step - loss: 0.9440 - accuracy: 0.6861 - val_loss: 0.8338 - val_accuracy: 0.7271\n",
      "Epoch 5/12\n",
      "263/263 [==============================] - 112s 426ms/step - loss: 0.8262 - accuracy: 0.7332 - val_loss: 0.7417 - val_accuracy: 0.7544\n",
      "Epoch 6/12\n",
      "263/263 [==============================] - 113s 429ms/step - loss: 0.7317 - accuracy: 0.7666 - val_loss: 0.6404 - val_accuracy: 0.7922\n",
      "Epoch 7/12\n",
      "263/263 [==============================] - 114s 432ms/step - loss: 0.6761 - accuracy: 0.7853 - val_loss: 0.6181 - val_accuracy: 0.8150\n",
      "Epoch 8/12\n",
      "263/263 [==============================] - 113s 431ms/step - loss: 0.6277 - accuracy: 0.8023 - val_loss: 0.6119 - val_accuracy: 0.8137\n",
      "Epoch 9/12\n",
      "263/263 [==============================] - 114s 433ms/step - loss: 0.5701 - accuracy: 0.8216 - val_loss: 0.6762 - val_accuracy: 0.7976\n",
      "Epoch 10/12\n",
      "263/263 [==============================] - 114s 433ms/step - loss: 0.5517 - accuracy: 0.8294 - val_loss: 0.5188 - val_accuracy: 0.8437\n",
      "Epoch 11/12\n",
      "263/263 [==============================] - 113s 431ms/step - loss: 0.4851 - accuracy: 0.8489 - val_loss: 0.4732 - val_accuracy: 0.8627\n",
      "Epoch 12/12\n",
      "263/263 [==============================] - 113s 430ms/step - loss: 0.4608 - accuracy: 0.8586 - val_loss: 0.4486 - val_accuracy: 0.8633\n",
      "117/117 [==============================] - 5s 40ms/step - loss: 0.4486 - accuracy: 0.8633\n",
      "Test loss: 0.448643296957016\n",
      "Test accuracy: 0.8632707595825195\n",
      "[    0     1     2 ... 37300 37301 37302] [29843 29844 29845 ... 33570 33571 33572]\n",
      "-----------breaking line--------------\n",
      "----------------------------\n",
      "9\n",
      "----------------------------\n",
      "Epoch 1/12\n",
      "  2/263 [..............................] - ETA: 5:22 - loss: 2.2960 - accuracy: 0.1523WARNING:tensorflow:Callbacks method `on_train_batch_end` is slow compared to the batch time (batch time: 0.4404s vs `on_train_batch_end` time: 2.0313s). Check your callbacks.\n",
      "263/263 [==============================] - 118s 449ms/step - loss: 1.7280 - accuracy: 0.3523 - val_loss: 1.4187 - val_accuracy: 0.4893\n",
      "Epoch 2/12\n",
      "263/263 [==============================] - 113s 429ms/step - loss: 1.2422 - accuracy: 0.5564 - val_loss: 1.1193 - val_accuracy: 0.6180\n",
      "Epoch 3/12\n",
      "263/263 [==============================] - 113s 428ms/step - loss: 1.0072 - accuracy: 0.6590 - val_loss: 0.9226 - val_accuracy: 0.7035\n",
      "Epoch 4/12\n",
      "263/263 [==============================] - 113s 428ms/step - loss: 0.8827 - accuracy: 0.7124 - val_loss: 0.8297 - val_accuracy: 0.7391\n",
      "Epoch 5/12\n",
      "263/263 [==============================] - 112s 427ms/step - loss: 0.8132 - accuracy: 0.7393 - val_loss: 0.7647 - val_accuracy: 0.7571\n",
      "Epoch 6/12\n",
      "263/263 [==============================] - 112s 426ms/step - loss: 0.6966 - accuracy: 0.7796 - val_loss: 0.7110 - val_accuracy: 0.7740\n",
      "Epoch 7/12\n",
      "263/263 [==============================] - 112s 426ms/step - loss: 0.6783 - accuracy: 0.7835 - val_loss: 0.7050 - val_accuracy: 0.7783\n",
      "Epoch 8/12\n",
      "263/263 [==============================] - 112s 425ms/step - loss: 0.6128 - accuracy: 0.8069 - val_loss: 0.5968 - val_accuracy: 0.8102\n",
      "Epoch 9/12\n",
      "263/263 [==============================] - 112s 427ms/step - loss: 0.5658 - accuracy: 0.8236 - val_loss: 0.6493 - val_accuracy: 0.7920\n",
      "Epoch 10/12\n",
      "263/263 [==============================] - 112s 427ms/step - loss: 0.5389 - accuracy: 0.8316 - val_loss: 0.5962 - val_accuracy: 0.8172\n",
      "Epoch 11/12\n",
      "263/263 [==============================] - 112s 427ms/step - loss: 0.5388 - accuracy: 0.8321 - val_loss: 0.5179 - val_accuracy: 0.8370\n",
      "Epoch 12/12\n",
      "263/263 [==============================] - 112s 427ms/step - loss: 0.4897 - accuracy: 0.8467 - val_loss: 0.5307 - val_accuracy: 0.8399\n",
      "117/117 [==============================] - 5s 40ms/step - loss: 0.5307 - accuracy: 0.8399\n",
      "Test loss: 0.5306501984596252\n",
      "Test accuracy: 0.8399463891983032\n",
      "[    0     1     2 ... 33570 33571 33572] [33573 33574 33575 ... 37300 37301 37302]\n",
      "-----------breaking line--------------\n",
      "----------------------------\n",
      "10\n",
      "----------------------------\n",
      "Epoch 1/12\n",
      "  2/263 [..............................] - ETA: 5:23 - loss: 2.2969 - accuracy: 0.1328WARNING:tensorflow:Callbacks method `on_train_batch_end` is slow compared to the batch time (batch time: 0.4328s vs `on_train_batch_end` time: 2.0477s). Check your callbacks.\n",
      "263/263 [==============================] - 118s 449ms/step - loss: 1.7020 - accuracy: 0.3655 - val_loss: 1.3501 - val_accuracy: 0.5177\n",
      "Epoch 2/12\n",
      "263/263 [==============================] - 115s 438ms/step - loss: 1.2034 - accuracy: 0.5710 - val_loss: 1.1401 - val_accuracy: 0.5938\n",
      "Epoch 3/12\n",
      "263/263 [==============================] - 115s 438ms/step - loss: 1.0113 - accuracy: 0.6399 - val_loss: 0.9863 - val_accuracy: 0.6515\n",
      "Epoch 4/12\n",
      "263/263 [==============================] - 115s 437ms/step - loss: 0.8693 - accuracy: 0.7039 - val_loss: 0.8437 - val_accuracy: 0.7177\n",
      "Epoch 5/12\n",
      "263/263 [==============================] - 115s 437ms/step - loss: 0.7573 - accuracy: 0.7496 - val_loss: 0.7893 - val_accuracy: 0.7453\n",
      "Epoch 6/12\n",
      "263/263 [==============================] - 114s 433ms/step - loss: 0.6819 - accuracy: 0.7796 - val_loss: 0.7443 - val_accuracy: 0.7619\n",
      "Epoch 7/12\n",
      "263/263 [==============================] - 113s 429ms/step - loss: 0.6029 - accuracy: 0.8070 - val_loss: 0.7198 - val_accuracy: 0.7780\n",
      "Epoch 8/12\n",
      "263/263 [==============================] - 114s 435ms/step - loss: 0.5679 - accuracy: 0.8204 - val_loss: 0.6310 - val_accuracy: 0.8078\n",
      "Epoch 9/12\n",
      "263/263 [==============================] - 115s 438ms/step - loss: 0.5043 - accuracy: 0.8401 - val_loss: 0.5868 - val_accuracy: 0.8244\n",
      "Epoch 10/12\n",
      "263/263 [==============================] - 115s 439ms/step - loss: 0.4728 - accuracy: 0.8524 - val_loss: 0.6085 - val_accuracy: 0.8153\n",
      "Epoch 11/12\n",
      "263/263 [==============================] - 115s 439ms/step - loss: 0.4796 - accuracy: 0.8478 - val_loss: 0.6075 - val_accuracy: 0.8155\n",
      "Epoch 12/12\n",
      "263/263 [==============================] - 115s 439ms/step - loss: 0.4343 - accuracy: 0.8628 - val_loss: 0.5309 - val_accuracy: 0.8416\n",
      "117/117 [==============================] - 5s 40ms/step - loss: 0.5309 - accuracy: 0.8416\n",
      "Test loss: 0.5308928489685059\n",
      "Test accuracy: 0.8415549397468567\n",
      "INFO:tensorflow:Assets written to: SoundClassification_CNNLSTM.model\\assets\n"
     ]
    }
   ],
   "source": [
    "#To see how many samples are in X-train and y-train\n",
    "kf = KFold(n_splits=10)\n",
    "\n",
    "count = 0\n",
    "\n",
    "keras.backend.clear_session()\n",
    "\n",
    "for train_set, test_set in kf.split(dataset):\n",
    "   print( train_set, test_set)\n",
    "   print(\"-----------breaking line--------------\")\n",
    "   #X_train, X_test, y_train, y_test = dataset[train_set], dataset[test_set]\n",
    "\n",
    "   print('----------------------------')\n",
    "   count += 1\n",
    "   print(count)\n",
    "   print('----------------------------')\n",
    "\n",
    "   X_train,y_train = zip(*dataset[train_set])\n",
    "   X_test, y_test = zip(*dataset[test_set])\n",
    "\n",
    "   # Reshape for CNN input\n",
    "   X_train = np.array([x.reshape( (128, 128, 1) ) for x in X_train])\n",
    "   X_test = np.array([x.reshape( (128, 128, 1) ) for x in X_test])\n",
    "\n",
    "   #  X_train = np.expand_dims(X_train, axis=3)\n",
    "   #  X_test = np.expand_dims(X_test, axis=3)\n",
    "\n",
    "   # One-Hot encoding for classes\n",
    "   y_train = np.array(keras.utils.to_categorical(y_train, 10))\n",
    "   y_test = np.array(keras.utils.to_categorical(y_test, 10))\n",
    "\n",
    "\n",
    "   NAME = \"graphic-{}\".format(int(time.time()))\n",
    "   tensorboard = TensorBoard(log_dir='logs{}'.format(NAME +  str(count)))\n",
    "\n",
    "\n",
    "   model = Sequential()\n",
    "   input_shape = ( 128, 128, 1)\n",
    "\n",
    "   model.add(Conv2D(24, (5, 5), strides=(1,1), input_shape = input_shape) )\n",
    "   model.add(MaxPooling2D((4, 2), strides=(4, 2)))\n",
    "   model.add(Activation('relu'))\n",
    "\n",
    "   model.add(Conv2D(48, (5, 5), padding=\"valid\"))\n",
    "   model.add(MaxPooling2D((4, 2), strides=(4, 2)))\n",
    "   model.add(Activation('relu'))\n",
    "\n",
    "   model.add(Conv2D(48, (5, 5), padding=\"valid\"))\n",
    "   model.add(Activation('relu'))\n",
    "\n",
    "   model.add(Flatten())\n",
    "   model.add(Dropout(rate=0.5))\n",
    "\n",
    "   model.add(Dense(64))\n",
    "   model.add(Activation('relu'))\n",
    "   model.add(Dropout(rate=0.5))\n",
    "\n",
    "   \n",
    "   model.add(Reshape((8, 8)))\n",
    "\n",
    "\n",
    "   model.add(LSTM(units = 50, return_sequences=True)) \n",
    "   model.add(LSTM(32))\n",
    "   model.add(Dense(10))\n",
    "   model.add(Activation('softmax'))\n",
    "\n",
    "   #convnet = tflearn.DNN(model, tensorboard_dir='log')\n",
    "\n",
    "   model.compile(\n",
    "      optimizer=\"Adam\",\n",
    "      loss=\"categorical_crossentropy\",\n",
    "      metrics=['accuracy']\n",
    "      )\n",
    "\n",
    "\n",
    "   model.fit(\n",
    "      x=X_train, \n",
    "      y=y_train,\n",
    "      epochs=12,\n",
    "      batch_size=128,\n",
    "      validation_data = (X_test, y_test),\n",
    "      callbacks=[tensorboard]\n",
    "      )\n",
    "\n",
    "   score = model.evaluate(\n",
    "      x=X_test,\n",
    "      y=y_test\n",
    "      )\n",
    "\n",
    "   print('Test loss:', score[0])\n",
    "   print('Test accuracy:', score[1])\n",
    "   \n",
    " \n",
    "\n",
    "#model.save('SoundClassification_CNNLSTM.model')\n",
    "\n",
    "    \n",
    "\n",
    "    \n"
   ]
  },
  {
   "cell_type": "code",
   "execution_count": null,
   "metadata": {},
   "outputs": [
    {
     "ename": "StopExecution",
     "evalue": "",
     "output_type": "error",
     "traceback": []
    }
   ],
   "source": [
    "class StopExecution(Exception):\n",
    "    def _render_traceback_(self):\n",
    "        pass\n",
    "\n",
    "raise StopExecution"
   ]
  },
  {
   "cell_type": "code",
   "execution_count": 23,
   "metadata": {},
   "outputs": [],
   "source": [
    "filename = \"\"\n",
    "\n",
    "#Audio-Convertor\n",
    "def audioCon(filename):\n",
    "   from os import path\n",
    "   from pydub import AudioSegment\n",
    "   \n",
    "   # files                                                                         \n",
    "   src = \"Test/{filename}.mp3\"\n",
    "   dst = \"Test/{filename}.wav\"\n",
    "   \n",
    "   # convert wav to mp3                                                            \n",
    "   sound = AudioSegment.from_mp3(src)\n",
    "   sound.export(dst, format=\"wav\")"
   ]
  },
  {
   "cell_type": "code",
   "execution_count": null,
   "metadata": {},
   "outputs": [],
   "source": [
    "audioCon()"
   ]
  },
  {
   "cell_type": "code",
   "execution_count": 81,
   "metadata": {},
   "outputs": [],
   "source": [
    "def prepare(filepath):\n",
    "    y, sr = librosa.load(filepath, duration=2.97)\n",
    "    ps = librosa.feature.melspectrogram(y=y, sr=sr)\n",
    "    ps.shape\n",
    "    return ps.reshape(-1, 128, 128, 1)"
   ]
  },
  {
   "cell_type": "code",
   "execution_count": 67,
   "metadata": {},
   "outputs": [],
   "source": [
    "model = tf.keras.models.load_model(\"SoundClassification.model\")"
   ]
  },
  {
   "cell_type": "code",
   "execution_count": 83,
   "metadata": {},
   "outputs": [
    {
     "name": "stdout",
     "output_type": "stream",
     "text": [
      "0.90739536\n",
      "[[9.0739536e-01 1.0987020e-05 7.2039278e-05 7.7610814e-05 1.3195210e-02\n",
      "  9.4531840e-03 1.2650190e-07 6.9615506e-02 4.5010489e-05 1.3501685e-04]]\n"
     ]
    }
   ],
   "source": [
    "prediction = model.predict([prepare('Test/airc.wav')])\n",
    "max = np.amax(prediction)\n",
    "print(max)\n",
    "print(prediction)"
   ]
  }
 ],
 "metadata": {
  "kernelspec": {
   "display_name": "Python 3 (ipykernel)",
   "language": "python",
   "name": "python3"
  },
  "language_info": {
   "codemirror_mode": {
    "name": "ipython",
    "version": 3
   },
   "file_extension": ".py",
   "mimetype": "text/x-python",
   "name": "python",
   "nbconvert_exporter": "python",
   "pygments_lexer": "ipython3",
   "version": "3.7.11"
  }
 },
 "nbformat": 4,
 "nbformat_minor": 2
}
