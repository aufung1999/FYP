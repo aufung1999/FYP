{
 "cells": [
  {
   "cell_type": "code",
   "execution_count": 11,
   "metadata": {},
   "outputs": [
    {
     "name": "stdout",
     "output_type": "stream",
     "text": [
      "ones_1d: [1. 1. 1. 1. 1.]\n",
      "weight_1d: [1. 1. 1.]\n",
      "in_1d: Tensor(\"Const_8:0\", shape=(5,), dtype=float32)\n",
      "filter_1d: Tensor(\"Const_9:0\", shape=(3,), dtype=float32)\n",
      "in_width: 5\n",
      "filter_width: 3\n",
      "[2. 3. 3. 3. 2.]\n"
     ]
    }
   ],
   "source": [
    "import tensorflow.compat.v1 as tf\n",
    "import numpy as np\n",
    "\n",
    "tf.disable_v2_behavior()\n",
    "\n",
    "sess = tf.Session()\n",
    "\n",
    "ones_1d = np.ones(5)\n",
    "print(\"ones_1d: \"+str(ones_1d))\n",
    "weight_1d = np.ones(3)\n",
    "print(\"weight_1d: \"+str(weight_1d))\n",
    "strides_1d = 1\n",
    "\n",
    "in_1d = tf.constant(ones_1d, dtype=tf.float32)\n",
    "print(\"in_1d: \"+str(in_1d))\n",
    "filter_1d = tf.constant(weight_1d, dtype=tf.float32)\n",
    "print(\"filter_1d: \"+str(filter_1d))\n",
    "\n",
    "in_width = int(in_1d.shape[0])\n",
    "print(\"in_width: \"+str(in_width))\n",
    "filter_width = int(filter_1d.shape[0])\n",
    "print(\"filter_width: \"+str(filter_width))\n",
    "\n",
    "input_1d   = tf.reshape(in_1d, [1, in_width, 1])\n",
    "print(\"input_1d: \"+str(in_width))\n",
    "kernel_1d = tf.reshape(filter_1d, [filter_width, 1, 1])\n",
    "output_1d = tf.squeeze(tf.nn.conv1d(input_1d, kernel_1d, strides_1d, padding='SAME'))\n",
    "print (sess.run(output_1d))"
   ]
  }
 ],
 "metadata": {
  "interpreter": {
   "hash": "18ad463bda390c705442217c2cf4ae3fc087edc39a47e0035f7fc4175b47e7a7"
  },
  "kernelspec": {
   "display_name": "Python 3.7.11 ('backup_20220216')",
   "language": "python",
   "name": "python3"
  },
  "language_info": {
   "codemirror_mode": {
    "name": "ipython",
    "version": 3
   },
   "file_extension": ".py",
   "mimetype": "text/x-python",
   "name": "python",
   "nbconvert_exporter": "python",
   "pygments_lexer": "ipython3",
   "version": "3.7.11"
  },
  "orig_nbformat": 4
 },
 "nbformat": 4,
 "nbformat_minor": 2
}
